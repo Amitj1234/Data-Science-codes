{
 "cells": [
  {
   "cell_type": "code",
   "execution_count": 1,
   "id": "a91dfbe1-8faf-46dd-8933-4a27427a6ad6",
   "metadata": {},
   "outputs": [],
   "source": [
    "import numpy as np\n",
    "from scipy.stats.contingency import chi2_contingency"
   ]
  },
  {
   "cell_type": "markdown",
   "id": "eddf6b0c-297d-4103-8d6e-665de915f87b",
   "metadata": {},
   "source": [
    "# STATING HYPOTHESIS\n",
    "* Null Hypothesis:  There is No significant association between the type of device purchased and the customer's satisfaction level.\n",
    "* Alternate Hypothesis: There is significant association between the type of device purchased and the customer's satisfaction level."
   ]
  },
  {
   "cell_type": "code",
   "execution_count": 6,
   "id": "4df2cff9-ffe2-4065-abfd-20820b5b13e8",
   "metadata": {},
   "outputs": [
    {
     "data": {
      "text/plain": [
       "array([[ 50,  70],\n",
       "       [ 80, 100],\n",
       "       [ 60,  90],\n",
       "       [ 30,  50],\n",
       "       [ 20,  50]])"
      ]
     },
     "execution_count": 6,
     "metadata": {},
     "output_type": "execute_result"
    }
   ],
   "source": [
    "data =np.array([[50,70],[80,100],[60,90],[30,50],[20,50]])\n",
    "data"
   ]
  },
  {
   "cell_type": "code",
   "execution_count": 14,
   "id": "3d2e9767-90f6-44b7-a8f5-369379dc219e",
   "metadata": {},
   "outputs": [
    {
     "data": {
      "text/plain": [
       "0.22784371130697179"
      ]
     },
     "execution_count": 14,
     "metadata": {},
     "output_type": "execute_result"
    }
   ],
   "source": [
    "p=chi2_contingency(data)[1]\n",
    "p"
   ]
  },
  {
   "cell_type": "code",
   "execution_count": 16,
   "id": "70e628e1-3d50-4c12-bc38-0c3738c164c5",
   "metadata": {},
   "outputs": [
    {
     "name": "stdout",
     "output_type": "stream",
     "text": [
      "There is no significant difference between two devices, HO will be True\n"
     ]
    }
   ],
   "source": [
    "alpha=0.05\n",
    "if p>alpha:\n",
    "    print(\"There is no significant difference between two devices, HO will be True\")\n",
    "else:\n",
    "    print(\"There is significant difference between two devices, H1 will be True\")"
   ]
  },
  {
   "cell_type": "markdown",
   "id": "f79c7208-6a4f-4e07-8b80-830361affb8a",
   "metadata": {},
   "source": [
    "# Conclusion\n",
    "* Both The Devices are not signicantly Difference Between and Both are getting similar Customer satisfaction "
   ]
  }
 ],
 "metadata": {
  "kernelspec": {
   "display_name": "Python 3 (ipykernel)",
   "language": "python",
   "name": "python3"
  },
  "language_info": {
   "codemirror_mode": {
    "name": "ipython",
    "version": 3
   },
   "file_extension": ".py",
   "mimetype": "text/x-python",
   "name": "python",
   "nbconvert_exporter": "python",
   "pygments_lexer": "ipython3",
   "version": "3.12.4"
  }
 },
 "nbformat": 4,
 "nbformat_minor": 5
}
