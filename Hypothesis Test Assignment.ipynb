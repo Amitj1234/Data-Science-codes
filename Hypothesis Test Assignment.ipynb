{
 "cells": [
  {
   "cell_type": "markdown",
   "id": "291be969-e208-4bb3-8a22-ca533f53a3b7",
   "metadata": {},
   "source": [
    "# Objective\n",
    "\n",
    "*  The restaurant owners' claim about the increase in weekly operating costs using hypothesis testing"
   ]
  },
  {
   "cell_type": "markdown",
   "id": "d6a90038-cc31-4d83-a0dc-2578b57b3849",
   "metadata": {},
   "source": [
    "# Stating Hypothesis\n",
    "\n",
    "* Null Hypothesis: Sample mean  weekly operating costs is <= theoritical Mean operating Cost Of model.\n",
    "* Alternate Hypothesis: Sample mean weekly operating costs is> theoritical mean operating cost of model."
   ]
  },
  {
   "cell_type": "code",
   "execution_count": 9,
   "id": "09aa76aa-079a-470d-acb7-e444b3236e84",
   "metadata": {},
   "outputs": [
    {
     "data": {
      "text/plain": [
       "4000"
      ]
     },
     "execution_count": 9,
     "metadata": {},
     "output_type": "execute_result"
    }
   ],
   "source": [
    "# W = $1,000 + $5X for X=600\n",
    "\n",
    "W = 1000+5*600\n",
    "W\n"
   ]
  },
  {
   "cell_type": "code",
   "execution_count": 11,
   "id": "35a37ba2-cbe0-49fe-8003-8ce75fe87ecf",
   "metadata": {},
   "outputs": [
    {
     "data": {
      "text/plain": [
       "-38.0"
      ]
     },
     "execution_count": 11,
     "metadata": {},
     "output_type": "execute_result"
    }
   ],
   "source": [
    "import numpy as np\n",
    "import scipy.stats as st\n",
    "\n",
    "# calculating T value\n",
    "t = (3050-4000)/(125/np.sqrt(25))\n",
    "t"
   ]
  },
  {
   "cell_type": "code",
   "execution_count": 25,
   "id": "ab1d9392-c8b4-4f97-affa-4201013f262f",
   "metadata": {},
   "outputs": [
    {
     "data": {
      "text/plain": [
       "2.9607810808177907e-23"
      ]
     },
     "execution_count": 25,
     "metadata": {},
     "output_type": "execute_result"
    }
   ],
   "source": [
    "p_value=st.t.cdf(-38.0,df=24)\n",
    "p_value"
   ]
  },
  {
   "cell_type": "code",
   "execution_count": 27,
   "id": "ebc8e786-da24-4d20-a8df-7c9c1a7c67a0",
   "metadata": {},
   "outputs": [
    {
     "name": "stdout",
     "output_type": "stream",
     "text": [
      " Sample mean weekly operating costs is> theoritical mean operating cost of model.\n"
     ]
    }
   ],
   "source": [
    "alpha=0.05\n",
    "if p_value>alpha:\n",
    "   print(\"Sample mean  weekly operating costs is <= theoritical Mean operating Cost Of model.\")\n",
    "else:\n",
    "    print(\" Sample mean weekly operating costs is> theoritical mean operating cost of model.\")"
   ]
  },
  {
   "cell_type": "markdown",
   "id": "8bf3e4cd-c010-478f-b42f-e8d684adc336",
   "metadata": {},
   "source": [
    "# Conclusion\n",
    "\n",
    "* With a strong Evidence We can Say That the operating cost of restaurant is more than that model suggest, with 95% confidence and More."
   ]
  },
  {
   "cell_type": "code",
   "execution_count": null,
   "id": "4f5e461f-63a6-49ed-a0d9-1ca02f444c8f",
   "metadata": {},
   "outputs": [],
   "source": []
  }
 ],
 "metadata": {
  "kernelspec": {
   "display_name": "Python 3 (ipykernel)",
   "language": "python",
   "name": "python3"
  },
  "language_info": {
   "codemirror_mode": {
    "name": "ipython",
    "version": 3
   },
   "file_extension": ".py",
   "mimetype": "text/x-python",
   "name": "python",
   "nbconvert_exporter": "python",
   "pygments_lexer": "ipython3",
   "version": "3.12.4"
  }
 },
 "nbformat": 4,
 "nbformat_minor": 5
}
